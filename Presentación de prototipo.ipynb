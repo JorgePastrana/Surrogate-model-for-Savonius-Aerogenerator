{
 "cells": [
  {
   "cell_type": "code",
   "execution_count": 1,
   "metadata": {},
   "outputs": [],
   "source": [
    "import pandas as pd\n",
    "import numpy as np\n",
    "import seaborn as sb\n",
    "import matplotlib.pyplot as plt"
   ]
  },
  {
   "cell_type": "code",
   "execution_count": 65,
   "metadata": {},
   "outputs": [],
   "source": [
    "E1 = pd.read_csv('CP_Exp1.csv')\n",
    "E2 = pd.read_csv('CP_Exp2.csv')\n",
    "E4 = pd.read_csv('CP_Exp4.csv')\n",
    "E5 = pd.read_csv('CP_Exp5.csv')\n",
    "E6 = pd.read_csv('CP_Exp6.csv')\n",
    "E7 = pd.read_csv('CP_Exp7.csv')\n",
    "E8 = pd.read_csv('CP_Exp8.csv')\n",
    "E9 = pd.read_csv('CP_Exp9.csv')\n",
    "E10 = pd.read_csv('CP_Exp10.csv')\n",
    "E11 = pd.read_csv('CP_Exp11.csv')\n",
    "E12 = pd.read_csv('CP_Exp12.csv')\n",
    "E13 = pd.read_csv('CP_Exp13.csv')\n",
    "E14 = pd.read_csv('CP_Exp14.csv')\n",
    "\n",
    "D_Exp1 = pd.read_csv('CPES1.csv')\n",
    "D_Exp2 = pd.read_csv('CPES2.csv')\n",
    "D_Exp3 = pd.read_csv('CPES3.csv')\n",
    "D_Exp4 = pd.read_csv('CPES4.csv')\n",
    "D_Exp5 = pd.read_csv('CPES5.csv')\n",
    "D_Exp6 = pd.read_csv('CPES6.csv')\n",
    "D_Exp8 = pd.read_csv('CPES8.csv')\n",
    "D_Exp9 = pd.read_csv('CPES9.csv')\n",
    "D_Exp11 = pd.read_csv('CPES11.csv')\n",
    "D_Exp12 = pd.read_csv('CPES12.csv')\n",
    "D_Exp13 = pd.read_csv('CPES13.csv')\n",
    "D_Exp14 = pd.read_csv('CPES14.csv')\n",
    "D_ES038 = pd.read_csv('CPES038.csv')\n",
    "D_ES039 = pd.read_csv('CPES039.csv')\n",
    "D_P1 = pd.read_csv('CPP1.csv')\n",
    "D_P2 = pd.read_csv('CPP2.csv')\n",
    "D_P3 = pd.read_csv('CPP3.csv')"
   ]
  },
  {
   "cell_type": "code",
   "execution_count": 70,
   "metadata": {},
   "outputs": [],
   "source": [
    "D_ExpB2 = pd.read_csv('CPB2.csv')\n",
    "D_ExpB3 = pd.read_csv('CPB3.csv')\n",
    "D_ExpB4 = pd.read_csv('CPB4.csv')\n",
    "D_ExpB5 = pd.read_csv('CPB5.csv')\n",
    "D_ExpB6 = pd.read_csv('CPB6.csv')\n",
    "D_ExpB7 = pd.read_csv('CPB7.csv')\n",
    "D_ExpB8 = pd.read_csv('CPB8.csv')\n",
    "D_ExpB9 = pd.read_csv('CPB9.csv')\n",
    "D_ExpB10 = pd.read_csv('CPB10.csv')\n",
    "D_ExpB11 = pd.read_csv('CPB11.csv')\n",
    "D_ExpB12 = pd.read_csv('CPB12.csv')\n",
    "D_ExpB13 = pd.read_csv('CPB13.csv')\n",
    "D_ExpB14 = pd.read_csv('CPB14.csv')\n",
    "\n",
    "D_ExpBS0 = pd.read_csv('CPBS0.csv')\n",
    "D_ExpBS1 = pd.read_csv('CPBS1.csv')\n",
    "D_ExpBS2 = pd.read_csv('CPBS2.csv')\n",
    "D_ExpBS3 = pd.read_csv('CPBS3.csv')\n",
    "D_ExpBS4 = pd.read_csv('CPBS4.csv')\n",
    "D_ExpBS5 = pd.read_csv('CPBS5.csv')\n",
    "D_ExpBS6 = pd.read_csv('CPBS6.csv')\n",
    "D_ExpBS7 = pd.read_csv('CPBS6.csv')\n",
    "D_ExpBS8 = pd.read_csv('CPBS8.csv')\n",
    "D_ExpBS9 = pd.read_csv('CPBS9.csv')\n",
    "D_ExpBS10 = pd.read_csv('CPBS10.csv')\n",
    "D_ExpBS11 = pd.read_csv('CPBS11.csv')\n",
    "D_ExpBS12 = pd.read_csv('CPBS12.csv')\n",
    "D_ExpBS13 = pd.read_csv('CPBS13.csv')\n",
    "D_ExpBS14 = pd.read_csv('CPBS14.csv')\n",
    "D_ExpBS15 = pd.read_csv('CPBS15.csv')"
   ]
  },
  {
   "cell_type": "code",
   "execution_count": 3,
   "metadata": {},
   "outputs": [],
   "source": [
    "#Parámetros geométricos de los rotores elípticos\n",
    "from sklearn.model_selection import train_test_split\n",
    "XDF = pd.DataFrame(columns='Tsr e r'.split())\n",
    "X = np.arange(0.2,0.9,0.1)\n",
    "YP = np.concatenate((E2['CP'],E4['CP'],E5['CP'],E6['CP'],E7['CP'],E8['CP'],E9['CP'],E10['CP'],E11['CP'],E12['CP'],E13['CP'],E14['CP'],D_Exp1['CP'],D_Exp2['CP'],D_Exp3['CP'],D_Exp4['CP'],D_Exp5['CP'],D_Exp6['CP'],D_ES038['CP'],D_ES039['CP'],D_Exp8['CP'],D_Exp9['CP'],D_Exp11['CP'],D_Exp12['CP'],D_Exp13['CP'],D_Exp14['CP']))\n",
    "XDF=pd.read_csv('Datos de entrenamiento Rotor elíptico.csv')\n",
    "\n",
    "XDE = XDF.values\n",
    "YDE = YP.reshape(-1, 1)"
   ]
  },
  {
   "cell_type": "code",
   "execution_count": 71,
   "metadata": {},
   "outputs": [],
   "source": [
    "#Parámetros geométricos de los rotores\n",
    "from sklearn.model_selection import train_test_split\n",
    "XDF = pd.DataFrame(columns='Tsr a e'.split())\n",
    "X = np.arange(0.2,0.9,0.1)\n",
    "YP = np.concatenate((D_ExpB2['CP'],D_ExpB3['CP'],D_ExpB4['CP'],D_ExpB5['CP'],D_ExpB6['CP'],D_ExpB7['CP'],D_ExpB8['CP'],D_ExpB9['CP'],D_ExpB10['CP'],D_ExpB11['CP'],D_ExpB12['CP'],D_ExpB13['CP'],D_ExpB14['CP'],D_ExpBS2['CP'],D_ExpBS3['CP'],D_ExpBS4['CP'],D_ExpBS5['CP'],D_ExpBS6['CP'],D_ExpBS7['CP'],D_ExpBS8['CP'],D_ExpBS9['CP'],D_ExpBS10['CP'],D_ExpBS11['CP'],D_ExpBS12['CP'],D_ExpBS13['CP'],D_ExpBS14['CP']))\n",
    "XDF = pd.read_csv('Datos de Extrenamiento Rotor Batch.csv')\n",
    "\n",
    "XDB = XDF.values\n",
    "YDB = YP.reshape(-1, 1)"
   ]
  },
  {
   "cell_type": "code",
   "execution_count": 66,
   "metadata": {},
   "outputs": [],
   "source": [
    "#Parámetros geométricos de los rotores de prueba\n",
    "from sklearn.model_selection import train_test_split\n",
    "XDF = pd.DataFrame(columns='Tsr e r'.split())\n",
    "X = np.arange(0.2,0.9,0.1)\n",
    "YP = np.concatenate((D_P1['CP'],D_P2['CP'],D_P3['CP']))\n",
    "XDF=pd.read_csv('Datos de prueba Rotor elíptico.csv')\n",
    "\n",
    "X_test = XDF.values\n",
    "Y_test = YP.reshape(-1, 1)"
   ]
  },
  {
   "cell_type": "code",
   "execution_count": 72,
   "metadata": {},
   "outputs": [],
   "source": [
    "#Parámetros geométricos de los rotores de prueba\n",
    "from sklearn.model_selection import train_test_split\n",
    "XDF = pd.DataFrame(columns='Tsr a e'.split())\n",
    "X = np.arange(0.2,0.9,0.1)\n",
    "YP = np.concatenate((D_ExpBS0['CP'],D_ExpBS1['CP'],D_ExpBS15['CP']))\n",
    "XDF = pd.read_csv('Datos de Prueba Rotor Batch.csv')\n",
    "\n",
    "X_testB = XDF.values\n",
    "Y_testB = YP.reshape(-1, 1)"
   ]
  },
  {
   "cell_type": "code",
   "execution_count": 14,
   "metadata": {},
   "outputs": [],
   "source": [
    "#Creacion de la estructura de la red neuronal\n",
    "import tensorflow as tf\n",
    "from tensorflow import keras\n",
    "from tensorflow.keras.models import Sequential\n",
    "from tensorflow.keras.layers import Dense, Activation,Dropout\n",
    "\n",
    "from tensorflow.keras.callbacks import EarlyStopping\n",
    "from sklearn.metrics import r2_score"
   ]
  },
  {
   "cell_type": "code",
   "execution_count": 21,
   "metadata": {},
   "outputs": [],
   "source": [
    "#Importar el modelo\n",
    "model= keras.models.load_model('Modelo_No_Inercial_CV_Final.h5')"
   ]
  },
  {
   "cell_type": "code",
   "execution_count": 73,
   "metadata": {},
   "outputs": [],
   "source": [
    "modelB= keras.models.load_model('Modelo_No_Inercial_CV_Batch.h5')"
   ]
  },
  {
   "cell_type": "code",
   "execution_count": 83,
   "metadata": {},
   "outputs": [],
   "source": [
    "def evaluar_modelo(model,X_test,Y_test,N_Rotor,Tipo):\n",
    "    test_predictions = model.predict(X_test[((N_Rotor*7)-7):(N_Rotor*7)])\n",
    "    scoreP1=r2_score(Y_test[((N_Rotor*7)-7):(N_Rotor*7)], test_predictions)\n",
    "    pred_df = pd.DataFrame(Y_test[((N_Rotor*7)-7):(N_Rotor*7)],columns=['Test Y'])\n",
    "    test_predictions = pd.Series(test_predictions.reshape(Y_test[((N_Rotor*7)-7):(N_Rotor*7)].shape[0],))\n",
    "    pred_df = pd.concat([pred_df,test_predictions],axis=1)\n",
    "    pred_df.columns = ['Test Y','Model Predictions']\n",
    "\n",
    "    fig = plt.figure(figsize=(7,4))\n",
    "    ax = fig.add_subplot(1, 1, 1)\n",
    "    plt.xlabel(\"TSR\")\n",
    "    plt.ylabel(\"CP\")\n",
    "    line, = ax.plot([0.2,0.3,0.4,0.5,0.6,0.7,0.8],pred_df['Test Y'])\n",
    "    line.set_label('Experimento 1')\n",
    "    ax.legend()\n",
    "    line2, = ax.plot([0.2,0.3,0.4,0.5,0.6,0.7,0.8],pred_df['Model Predictions'],linestyle='dashed')\n",
    "    line2.set_label('Aproximación del modelo')\n",
    "    ax.legend()\n",
    "    if Tipo == 'e':\n",
    "        ax.set_xlim([0.15, 0.9])\n",
    "        ax.set_ylim([0.05, 0.135])\n",
    "    else:\n",
    "        ax.set_xlim([0.15, 0.9])\n",
    "        ax.set_ylim([0.0, 0.135])\n",
    "    plt.grid(b=True, axis='both',color='k', linestyle='-', linewidth=0.5)\n",
    "    plt.show()"
   ]
  },
  {
   "cell_type": "code",
   "execution_count": 86,
   "metadata": {},
   "outputs": [
    {
     "data": {
      "image/png": "[encoded data removed]",
      "text/plain": [
       "<Figure size 504x288 with 1 Axes>"
      ]
     },
     "metadata": {
      "needs_background": "light"
     },
     "output_type": "display_data"
    }
   ],
   "source": [
    "evaluar_modelo(model,X_test,Y_test,3,'e')"
   ]
  },
  {
   "cell_type": "code",
   "execution_count": 94,
   "metadata": {},
   "outputs": [
    {
     "data": {
      "image/png": "[encoded data removed]",
      "text/plain": [
       "<Figure size 504x288 with 1 Axes>"
      ]
     },
     "metadata": {
      "needs_background": "light"
     },
     "output_type": "display_data"
    }
   ],
   "source": [
    "evaluar_modelo(modelB,XDB,YDB,21,'b')"
   ]
  },
  {
   "cell_type": "code",
   "execution_count": null,
   "metadata": {},
   "outputs": [],
   "source": []
  }
 ],
 "metadata": {
  "kernelspec": {
   "display_name": "Python 3",
   "language": "python",
   "name": "python3"
  },
  "language_info": {
   "codemirror_mode": {
    "name": "ipython",
    "version": 3
   },
   "file_extension": ".py",
   "mimetype": "text/x-python",
   "name": "python",
   "nbconvert_exporter": "python",
   "pygments_lexer": "ipython3",
   "version": "3.8.5"
  }
 },
 "nbformat": 4,
 "nbformat_minor": 4
}
